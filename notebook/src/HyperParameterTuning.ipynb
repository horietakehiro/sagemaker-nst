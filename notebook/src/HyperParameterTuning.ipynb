{
 "cells": [
  {
   "cell_type": "code",
   "execution_count": 1,
   "metadata": {},
   "outputs": [
    {
     "name": "stderr",
     "output_type": "stream",
     "text": [
      "pandas failed to import. Analytics features will be impaired or broken.\n"
     ]
    },
    {
     "name": "stdout",
     "output_type": "stream",
     "text": [
      "boto3 :  1.14.44\n",
      "sagemaker :  2.16.1\n"
     ]
    }
   ],
   "source": [
    "import boto3\n",
    "import sagemaker\n",
    "from sagemaker.tensorflow import TensorFlow\n",
    "from sagemaker.tuner import IntegerParameter, CategoricalParameter, ContinuousParameter, HyperparameterTuner\n",
    "import json\n",
    "print(\"boto3 : \", boto3.__version__)\n",
    "print(\"sagemaker : \", sagemaker.__version__)"
   ]
  },
  {
   "cell_type": "code",
   "execution_count": 2,
   "metadata": {},
   "outputs": [],
   "source": [
    "# トレーニングジョブの設定定義\n",
    "# ここまでは単発のトレーニングジョブ実行時と同様\n",
    "\n",
    "get_s3_loc = lambda *args: \"s3://\" + \"/\".join(args)\n",
    "\n",
    "with open(\"./secrets.json\", \"r\", encoding=\"utf-8\") as fp:\n",
    "    secrets = json.load(fp)\n",
    "role=secrets[\"RoleArn\"]\n",
    "s3_bucket=secrets[\"S3Bucket\"]\n",
    "\n",
    "boto_session = boto3.Session(region_name=\"ap-northeast-1\")\n",
    "sess = sagemaker.Session(\n",
    "    boto_session=boto_session,\n",
    "    default_bucket=s3_bucket,\n",
    ")\n",
    "\n",
    "s3_train_loc = get_s3_loc(sess.default_bucket(), \"train\")\n",
    "instance_types = {\"CPU\" : \"ml.m5.large\", \"GPU\" : \"ml.g4dn.xlarge\", \"LOCAL\" : \"local\"}\n",
    "\n",
    "hyperparameters = {\n",
    "    \"EPOCH\" : 50,\n",
    "    \"STEP\" : 10,\n",
    "    \"MAX_IMAGE_SIZE\" : 1024,\n",
    "    \"TB_BUCKET\" : s3_train_loc,\n",
    "    \"MAX_TRIAL\" : 9,\n",
    "}\n",
    "\n",
    "estimator = TensorFlow(\n",
    "    entry_point='train.py',\n",
    "    role=role,\n",
    "    instance_count=1,\n",
    "    instance_type=instance_types[\"GPU\"],\n",
    "    framework_version='2.3.0',\n",
    "    py_version='py37',\n",
    "    debugger_hook_config=False,\n",
    "    hyperparameters=hyperparameters,\n",
    "    sagemaker_session=sess,\n",
    "    use_spot_instances=True,\n",
    "    max_run=3600,\n",
    "    max_wait=3600,\n",
    ")"
   ]
  },
  {
   "cell_type": "code",
   "execution_count": 3,
   "metadata": {},
   "outputs": [],
   "source": [
    "# チューニングするパラメータと、取り得るパラメータの範囲を定義\n",
    "hyperparameter_ranges = {\n",
    "    \"CONTENT_WEIGHTS\" : ContinuousParameter(\n",
    "        min_value=5000, max_value=15000,\n",
    "    ),\n",
    "    \"STYLE_WEIGHTS\" : ContinuousParameter(\n",
    "        min_value=0.001, max_value=0.1,\n",
    "    ),\n",
    "    \"TOTAL_VARIATION_WEIGHTS\" : ContinuousParameter(\n",
    "        min_value=10, max_value=50,\n",
    "    ),\n",
    "    \"LEARNING_RATE\" : ContinuousParameter(\n",
    "        min_value=0.01, max_value=0.1,\n",
    "    ),\n",
    "}"
   ]
  },
  {
   "cell_type": "code",
   "execution_count": 4,
   "metadata": {},
   "outputs": [],
   "source": [
    "# モデルの性能を比較するための目標メトリクスを定義\n",
    "# loss値が最小になるハイパーパラメータの組み合わせを今回は探ってみる\n",
    "objective_metric_name = 'loss'\n",
    "objective_type = 'Minimize'\n",
    "metric_definitions = [\n",
    "    {\n",
    "        'Name': 'loss',\n",
    "        # トレーニングスクリプト内でprint()されたメッセージは\n",
    "        # CloudWatchLogsにログ出力される。\n",
    "        # そのメッセージのうち、\"FinalMeanLoss=([0-9\\\\.]+)\"のパターンに合致する\n",
    "        # 数値を目標メトリクスとして収集し、トレーニングジョブ間で比較する。\n",
    "        'Regex': 'FinalMeanLoss=([0-9\\\\.]+)',\n",
    "    }\n",
    "]"
   ]
  },
  {
   "cell_type": "code",
   "execution_count": 9,
   "metadata": {},
   "outputs": [],
   "source": [
    "# ハイパーパラメータチューニングジョブ設定を定義\n",
    "tuner = HyperparameterTuner(\n",
    "    # トレーニングジョブの定義\n",
    "    estimator=estimator,\n",
    "    # チューニング対象のハイパーパラメータ\n",
    "    hyperparameter_ranges=hyperparameter_ranges,\n",
    "    # 目標メトリクスの定義（今回はloss値を最小にする）\n",
    "    objective_type=objective_type,\n",
    "    objective_metric_name=objective_metric_name,\n",
    "    metric_definitions=metric_definitions,\n",
    "    # トータルで実行されるトレーニングジョブの上限\n",
    "    max_jobs=30,\n",
    "    # 並列実行されるジョブの上限\n",
    "    # ml.g4dn.xlargeインスタンスのデファルトの同時起動上限数は２\n",
    "    max_parallel_jobs=2,\n",
    "\n",
    ")"
   ]
  },
  {
   "cell_type": "code",
   "execution_count": 10,
   "metadata": {},
   "outputs": [],
   "source": [
    "# ハイパーパラメータチューニングの実行\n",
    "tuner.fit(s3_train_loc, wait=False)"
   ]
  },
  {
   "cell_type": "code",
   "execution_count": 15,
   "metadata": {},
   "outputs": [
    {
     "name": "stdout",
     "output_type": "stream",
     "text": [
      "\n",
      "2020-11-18 17:34:11 Starting - Preparing the instances for training\n",
      "2020-11-18 17:34:11 Downloading - Downloading input data\n",
      "2020-11-18 17:34:11 Training - Training image download completed. Training in progress.\n",
      "2020-11-18 17:34:11 Uploading - Uploading generated training model\n",
      "2020-11-18 17:34:11 Completed - Training job completed\n"
     ]
    },
    {
     "data": {
      "text/plain": [
       "{'CONTENT_WEIGHTS': '5277.5099011496795',\n",
       " 'EPOCH': '50',\n",
       " 'LEARNING_RATE': '0.03725186282831269',\n",
       " 'MAX_IMAGE_SIZE': '1024',\n",
       " 'MAX_TRIAL': '9',\n",
       " 'STEP': '10',\n",
       " 'STYLE_WEIGHTS': '0.0012957731765036497',\n",
       " 'TB_BUCKET': '\"s3://sagemaker-nst/train\"',\n",
       " 'TOTAL_VARIATION_WEIGHTS': '10.0',\n",
       " '_tuning_objective_metric': '\"loss\"',\n",
       " 'sagemaker_container_log_level': '20',\n",
       " 'sagemaker_estimator_class_name': '\"TensorFlow\"',\n",
       " 'sagemaker_estimator_module': '\"sagemaker.tensorflow.estimator\"',\n",
       " 'sagemaker_job_name': '\"tensorflow-training-2020-11-18-11-30-35-845\"',\n",
       " 'sagemaker_program': '\"train.py\"',\n",
       " 'sagemaker_region': '\"ap-northeast-1\"',\n",
       " 'sagemaker_submit_directory': '\"s3://sagemaker-nst/tensorflow-training-2020-11-18-11-30-35-845/source/sourcedir.tar.gz\"',\n",
       " 'model_dir': '\"s3://sagemaker-nst/tensorflow-training-2020-11-18-11-26-25-821/model\"'}"
      ]
     },
     "metadata": {},
     "output_type": "display_data"
    }
   ],
   "source": [
    "# 最善の結果を出したモデルの、ハイパーパラメータの組み合わせを確認する。\n",
    "from IPython.display import display\n",
    "best_hyperparameters = tuner.best_estimator().hyperparameters()\n",
    "display(best_hyperparameters)"
   ]
  },
  {
   "cell_type": "code",
   "execution_count": null,
   "metadata": {},
   "outputs": [],
   "source": []
  }
 ],
 "metadata": {
  "kernelspec": {
   "display_name": "Python 3",
   "language": "python",
   "name": "python3"
  },
  "language_info": {
   "codemirror_mode": {
    "name": "ipython",
    "version": 3
   },
   "file_extension": ".py",
   "mimetype": "text/x-python",
   "name": "python",
   "nbconvert_exporter": "python",
   "pygments_lexer": "ipython3",
   "version": "3.6.9"
  }
 },
 "nbformat": 4,
 "nbformat_minor": 4
}
