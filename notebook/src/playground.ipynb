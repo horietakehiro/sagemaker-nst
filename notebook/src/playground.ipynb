{
 "cells": [
  {
   "cell_type": "code",
   "execution_count": 1,
   "metadata": {},
   "outputs": [
    {
     "name": "stderr",
     "output_type": "stream",
     "text": [
      "pandas failed to import. Analytics features will be impaired or broken.\n"
     ]
    },
    {
     "name": "stdout",
     "output_type": "stream",
     "text": [
      "boto3 :  1.14.44\n",
      "sagemaker :  2.16.1\n"
     ]
    }
   ],
   "source": [
    "%load_ext tensorboard\n",
    "import boto3\n",
    "import sagemaker\n",
    "from sagemaker.tensorflow import TensorFlow\n",
    "from sagemaker.tuner import IntegerParameter, CategoricalParameter, ContinuousParameter, HyperparameterTuner\n",
    "import json\n",
    "print(\"boto3 : \", boto3.__version__)\n",
    "print(\"sagemaker : \", sagemaker.__version__)"
   ]
  },
  {
   "cell_type": "code",
   "execution_count": 2,
   "metadata": {},
   "outputs": [],
   "source": [
    "# utilities\n",
    "get_s3_loc = lambda *args: \"s3://\" + \"/\".join(args)"
   ]
  },
  {
   "cell_type": "code",
   "execution_count": 8,
   "metadata": {},
   "outputs": [],
   "source": [
    "# load secret values\n",
    "with open(\"./secrets.json\", \"r\", encoding=\"utf-8\") as fp:\n",
    "    secrets = json.load(fp)\n",
    "\n",
    "role=secrets[\"RoleArn\"]\n",
    "s3_bucket=secrets[\"S3Bucket\"]"
   ]
  },
  {
   "cell_type": "code",
   "execution_count": 9,
   "metadata": {},
   "outputs": [],
   "source": [
    "# create session\n",
    "boto_session = boto3.Session(region_name=\"ap-northeast-1\")\n",
    "sess = sagemaker.Session(\n",
    "    boto_session=boto_session,\n",
    "    default_bucket=s3_bucket,\n",
    ")"
   ]
  },
  {
   "cell_type": "code",
   "execution_count": 10,
   "metadata": {},
   "outputs": [],
   "source": [
    "# prepare hyperparameters\n",
    "s3_train_loc = get_s3_loc(sess.default_bucket(), \"train\")\n",
    "instance_types = {\"CPU\" : \"ml.m5.large\", \"GPU\" : \"ml.g4dn.xlarge\", \"LOCAL\" : \"local\"}\n",
    "\n",
    "hyperparameters = {\n",
    "    \"EPOCH\" : 50,\n",
    "    \"STEP\" : 10,\n",
    "    \"MAX_IMAGE_SIZE\" : 1024,\n",
    "    \"TB_BUCKET\" : s3_train_loc,\n",
    "    \"MAX_TRIAL\" : 2,\n",
    "    \n",
    "}"
   ]
  },
  {
   "cell_type": "code",
   "execution_count": 11,
   "metadata": {},
   "outputs": [],
   "source": [
    "# create estimator\n",
    "est = TensorFlow(\n",
    "    entry_point='train.py',\n",
    "    role=role,\n",
    "    instance_count=1,\n",
    "    instance_type=instance_types[\"GPU\"],\n",
    "    framework_version='2.3.0',\n",
    "    py_version='py37',\n",
    "    debugger_hook_config=False,\n",
    "    hyperparameters=hyperparameters,\n",
    "    sagemaker_session=sess,\n",
    "    use_spot_instances=True,\n",
    "    max_run=3600,\n",
    "    max_wait=3600,\n",
    ")"
   ]
  },
  {
   "cell_type": "code",
   "execution_count": null,
   "metadata": {},
   "outputs": [
    {
     "name": "stdout",
     "output_type": "stream",
     "text": [
      "2020-11-14 01:50:22 Starting - Starting the training job...\n",
      "2020-11-14 01:50:25 Starting - Launching requested ML instances......\n",
      "2020-11-14 01:51:39 Starting - Preparing the instances for training..."
     ]
    }
   ],
   "source": [
    "# run training\n",
    "est.fit(s3_train_loc)"
   ]
  },
  {
   "cell_type": "code",
   "execution_count": 8,
   "metadata": {},
   "outputs": [],
   "source": [
    "hyperparameter_ranges = {\n",
    "#     \"CONTENT_WEIGHTS\" : ContinuousParameter(\n",
    "#         min_value=5000, max_value=15000,\n",
    "#     ),\n",
    "#     \"STYLE_WEIGHTS\" : ContinuousParameter(\n",
    "#         min_value=0.001, max_value=0.1,\n",
    "#     ),\n",
    "#     \"TOTAL_VARIATION_WEIGHTS\" : ContinuousParameter(\n",
    "#         min_value=10, max_value=50,\n",
    "#     ),\n",
    "#     \"LEARNING_RATE\" : ContinuousParameter(\n",
    "#         min_value=0.01, max_value=0.1,\n",
    "#     ),\n",
    "    \"STYLE_RESIZE_METHOD\": CategoricalParameter(\n",
    "        [\"original\", \"imagenet\", \"content\", \"medium\"]\n",
    "    ),\n",
    "}\n",
    "objective_metric_name = 'loss'\n",
    "objective_type = 'Minimize'\n",
    "metric_definitions = [\n",
    "    {'Name': 'loss','Regex': 'FinalMeanLoss=([0-9\\\\.]+)'}\n",
    "]\n",
    "\n",
    "tuner = HyperparameterTuner(\n",
    "    estimator=est,\n",
    "    objective_metric_name=objective_metric_name,\n",
    "    hyperparameter_ranges=hyperparameter_ranges,\n",
    "    metric_definitions=metric_definitions,\n",
    "    max_jobs=4,\n",
    "    max_parallel_jobs=2,\n",
    "    objective_type=objective_type\n",
    ")\n",
    "\n"
   ]
  },
  {
   "cell_type": "code",
   "execution_count": 13,
   "metadata": {},
   "outputs": [],
   "source": [
    "tuner.fit(s3_train_loc, wait=False)"
   ]
  },
  {
   "cell_type": "code",
   "execution_count": 1,
   "metadata": {},
   "outputs": [],
   "source": []
  }
 ],
 "metadata": {
  "kernelspec": {
   "display_name": "Python 3",
   "language": "python",
   "name": "python3"
  },
  "language_info": {
   "codemirror_mode": {
    "name": "ipython",
    "version": 3
   },
   "file_extension": ".py",
   "mimetype": "text/x-python",
   "name": "python",
   "nbconvert_exporter": "python",
   "pygments_lexer": "ipython3",
   "version": "3.6.9"
  }
 },
 "nbformat": 4,
 "nbformat_minor": 4
}
