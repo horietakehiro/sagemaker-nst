{
 "cells": [
  {
   "cell_type": "code",
   "execution_count": 12,
   "metadata": {},
   "outputs": [
    {
     "name": "stdout",
     "output_type": "stream",
     "text": [
      "boto3 :  1.14.44\n",
      "sagemaker :  2.16.1\n"
     ]
    }
   ],
   "source": [
    "import json\n",
    "import boto3\n",
    "import sagemaker\n",
    "from sagemaker.tensorflow import TensorFlow\n",
    "print(\"boto3 : \", boto3.__version__)\n",
    "print(\"sagemaker : \", sagemaker.__version__)"
   ]
  },
  {
   "cell_type": "code",
   "execution_count": 13,
   "metadata": {},
   "outputs": [],
   "source": [
    "# utilities\n",
    "get_s3_path = lambda *args: \"s3://\" + \"/\".join(args)"
   ]
  },
  {
   "cell_type": "code",
   "execution_count": 14,
   "metadata": {},
   "outputs": [
    {
     "name": "stdout",
     "output_type": "stream",
     "text": [
      "S3 bucket for training :  sagemaker-nst\n"
     ]
    }
   ],
   "source": [
    "# 非公開にしたい情報を読み込む(今回はRoleのARNのみ)\n",
    "with open(\"./secrets.json\", \"r\", encoding=\"utf-8\") as fp:\n",
    "    secrets = json.load(fp)\n",
    "role=secrets[\"RoleArn\"]\n",
    "s3_bucket=secrets[\"S3Bucket\"]\n",
    "print(\"S3 bucket for training : \", s3_bucket)"
   ]
  },
  {
   "cell_type": "code",
   "execution_count": 15,
   "metadata": {},
   "outputs": [],
   "source": [
    "# AWSとのセッションを確立する\n",
    "boto_session = boto3.Session(region_name=\"ap-northeast-1\")\n",
    "sess = sagemaker.Session(\n",
    "    # リージョンを東京リージョンに指定\n",
    "    boto_session=boto_session,\n",
    "    # SageMkaerが使用するS3バケットを指定\n",
    "    default_bucket=s3_bucket,\n",
    ")"
   ]
  },
  {
   "cell_type": "code",
   "execution_count": 19,
   "metadata": {},
   "outputs": [],
   "source": [
    "# トレーニング設定の定義に必要なパラメータを用意\n",
    "# トレーニングで使用されるデータのダウンロード元、トレーニングで生成されるデータのアップロード先となるS3のパスを指定\n",
    "s3_train_path = get_s3_path(sess.default_bucket(), \"train\")\n",
    "\n",
    "# インスタンスタイプに\"local\"を指定すると、トレーニングジョブの実行環境のDockerイメージがpullされ、\n",
    "# ローカル上でコンテナが起動しトレーニングが実行される\n",
    "instance_types = {\"CPU\" : \"ml.m5.large\", \"GPU\" : \"ml.g4dn.xlarge\", \"LOCAL\" : \"local\"}\n",
    "\n",
    "# トレーニングスクリプトに渡されるパラメータ\n",
    "hyperparameters = {\n",
    "    \"EPOCH\" : 50,\n",
    "    \"STEP\" : 10,\n",
    "    \"MAX_IMAGE_SIZE\" : 1024,\n",
    "    \"TB_BUCKET\" : s3_train_path,\n",
    "    \"MAX_TRIAL\" : 36,\n",
    "}"
   ]
  },
  {
   "cell_type": "code",
   "execution_count": 17,
   "metadata": {},
   "outputs": [],
   "source": [
    "# TensorFlowで書かれたモデルのトレーニングジョブ設定を定義\n",
    "est = TensorFlow(\n",
    "    # トレーニングスクリプト\n",
    "    entry_point='train.py',\n",
    "    # 指定したS3にSageMakerがアクセスするためのサービスロール\n",
    "    role=role,\n",
    "    # 起動されるインスタンス数\n",
    "    instance_count=1,\n",
    "    # 起動されるインスタンスのタイプ\n",
    "    instance_type=instance_types[\"GPU\"],\n",
    "    # トレーニングジョブ実行環境内で使用されるtensorflowのバージョン\n",
    "    framework_version='2.3.0',\n",
    "    # トレーニングジョブ実行環境内で使用されるPythonのバージョン\n",
    "    py_version='py37',\n",
    "    # デバッグライブラリの使用を無効化。理由は後述\n",
    "    debugger_hook_config=False,\n",
    "    # JSON形式で指定しtパラメータは、トレーニングジョブ実行時にコマンドライン引数としてトレーニングスクリプトに渡される。\n",
    "    hyperparameters=hyperparameters,\n",
    "    # ユーザが指定したS3バケットやリージョンを使用したいので、カスタマイズしたセッション情報も渡す\n",
    "    sagemaker_session=sess,\n",
    "    # スポットインスタンスの使用を有効にする。nstモデルの場合、料金を約70%節約できる。\n",
    "    use_spot_instances=True,\n",
    "    max_run=7200,\n",
    "    max_wait=7200,\n",
    ")"
   ]
  },
  {
   "cell_type": "code",
   "execution_count": 18,
   "metadata": {},
   "outputs": [],
   "source": [
    "# トレーニングジョブを実行\n",
    "# 指定したS3バケットのパスから訓練用データがトレーニングジョブ実行環境上に自動ダウンロードされる。\n",
    "# デフォルト(logs=\"All\")だとログが大量に出すぎるのでここでは抑制する。\n",
    "est.fit(s3_train_path, logs=\"None\", wait=False,)"
   ]
  },
  {
   "cell_type": "code",
   "execution_count": 10,
   "metadata": {},
   "outputs": [],
   "source": [
    "# # tensorboard でトレーニング結果を確認\n",
    "# %load_ext tensorboard\n",
    "# %tensorboard --logdir s3://sagemaker-nst/train --port 6006 --host 0.0.0.0"
   ]
  },
  {
   "cell_type": "code",
   "execution_count": null,
   "metadata": {},
   "outputs": [],
   "source": []
  }
 ],
 "metadata": {
  "kernelspec": {
   "display_name": "Python 3",
   "language": "python",
   "name": "python3"
  },
  "language_info": {
   "codemirror_mode": {
    "name": "ipython",
    "version": 3
   },
   "file_extension": ".py",
   "mimetype": "text/x-python",
   "name": "python",
   "nbconvert_exporter": "python",
   "pygments_lexer": "ipython3",
   "version": "3.6.9"
  }
 },
 "nbformat": 4,
 "nbformat_minor": 4
}
