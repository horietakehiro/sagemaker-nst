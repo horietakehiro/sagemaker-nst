{
 "cells": [
  {
   "cell_type": "markdown",
   "metadata": {},
   "source": [
    "<span style=\"color: red; \">**CAUTION : This Notebook should be run on Jupyter Notebook, not on Jupyter Lab, because the lab can't dynamically update plots.**</span>"
   ]
  },
  {
   "cell_type": "code",
   "execution_count": null,
   "metadata": {},
   "outputs": [],
   "source": [
    "import time\n",
    "from copy import deepcopy\n",
    "import numpy as np\n",
    "import matplotlib.pyplot as plt\n",
    "import tensorflow as tf\n",
    "%matplotlib notebook\n",
    "import train\n",
    "tf.__version__, tf.test.is_gpu_available()"
   ]
  },
  {
   "cell_type": "code",
   "execution_count": null,
   "metadata": {},
   "outputs": [],
   "source": [
    "# prepare images and Neural Style Transfer model\n",
    "args, _ = train._parse_args()\n",
    "args.STYLE_RESIZE_METHOD = \"content\"\n",
    "args.STEP = 20\n",
    "args.EPOCH = 15\n",
    "# args.MAX_IMAGE_SIZE = 224\n",
    "content = train._load_and_preprocess_content_image(\"train/images/content/01_content.png\", args)\n",
    "style = train._load_and_preprocess_style_image(\"train/images/style/01_style.png\", args, content.shape)\n",
    "transfer = deepcopy(content)\n",
    "\n",
    "engine = train.NstEngine(content.shape, args)"
   ]
  },
  {
   "cell_type": "code",
   "execution_count": null,
   "metadata": {},
   "outputs": [],
   "source": [
    "# plot transfer image\n",
    "fig = plt.figure(figsize=(18, 6))\n",
    "ax = fig.subplots(1,1)\n",
    "\n",
    "ax.axis(\"off\"), ax.set_title(\"Content Image / Style Image  / Transfer Image : step 0\",  fontsize=10)\n",
    "\n",
    "all_images = np.concatenate([content, style, transfer], axis=2)\n",
    "offset = transfer.shape[2]\n",
    "imshow = ax.imshow(all_images[0])\n",
    "for step in range(args.STEP):\n",
    "    imshow.set_data(all_images[0])\n",
    "    ax.set_title(f\"Content Image / Style Image / Transfer Image : step {step+1}\", fontsize=25)\n",
    "    fig.canvas.draw()    \n",
    "    fig.canvas.flush_events()\n",
    "    time.sleep(0.1)\n",
    "    transfer, _ = engine.fit(transfer, style, content)\n",
    "    all_images[:, :, offset*2:, :] = transfer"
   ]
  },
  {
   "cell_type": "code",
   "execution_count": null,
   "metadata": {},
   "outputs": [],
   "source": []
  }
 ],
 "metadata": {
  "kernelspec": {
   "display_name": "Python 3",
   "language": "python",
   "name": "python3"
  },
  "language_info": {
   "codemirror_mode": {
    "name": "ipython",
    "version": 3
   },
   "file_extension": ".py",
   "mimetype": "text/x-python",
   "name": "python",
   "nbconvert_exporter": "python",
   "pygments_lexer": "ipython3",
   "version": "3.6.9"
  }
 },
 "nbformat": 4,
 "nbformat_minor": 4
}
